{
 "cells": [
  {
   "cell_type": "code",
   "execution_count": 1,
   "id": "61e60dd7",
   "metadata": {},
   "outputs": [],
   "source": [
    "import requests\n",
    "from bs4 import BeautifulSoup\n",
    "import selenium\n",
    "from selenium import webdriver\n",
    "from selenium.webdriver.chrome.options import Options"
   ]
  },
  {
   "cell_type": "code",
   "execution_count": 2,
   "id": "0d5dd7ce",
   "metadata": {},
   "outputs": [
    {
     "name": "stdout",
     "output_type": "stream",
     "text": [
      "https://shopee.com.my/search?keyword=samsung&page=1\n"
     ]
    }
   ],
   "source": [
    "# https://shopee.co.id/\n",
    "BASE_URL = 'https://shopee.com.my/'\n",
    "KEYWORD = 'samsung'\n",
    "PAGE=1\n",
    "BASE_SEARCH_URL_PARAMETER = f'{BASE_URL}search?keyword={KEYWORD}&page={PAGE}'\n",
    "PROXY_SERVER = 'http://localhost:8080'\n",
    "\n",
    "print(BASE_SEARCH_URL_PARAMETER)"
   ]
  },
  {
   "cell_type": "code",
   "execution_count": 5,
   "id": "4a253ecc",
   "metadata": {},
   "outputs": [
    {
     "ename": "AttributeError",
     "evalue": "'WebDriver' object has no attribute 'set_proxy'",
     "output_type": "error",
     "traceback": [
      "\u001b[1;31m---------------------------------------------------------------------------\u001b[0m",
      "\u001b[1;31mAttributeError\u001b[0m                            Traceback (most recent call last)",
      "Cell \u001b[1;32mIn[5], line 7\u001b[0m\n\u001b[0;32m      5\u001b[0m chrome_options\u001b[38;5;241m.\u001b[39madd_argument(\u001b[38;5;124m'\u001b[39m\u001b[38;5;124m--executable-path=chromedriver.exe\u001b[39m\u001b[38;5;124m'\u001b[39m)\n\u001b[0;32m      6\u001b[0m driver \u001b[38;5;241m=\u001b[39m webdriver\u001b[38;5;241m.\u001b[39mChrome(options\u001b[38;5;241m=\u001b[39mchrome_options)\n\u001b[1;32m----> 7\u001b[0m driver\u001b[38;5;241m.\u001b[39mset_proxy(PROXY_SERVER)\n\u001b[0;32m      8\u001b[0m driver\u001b[38;5;241m.\u001b[39mget(BASE_SEARCH_URL_PARAMETER)\n\u001b[0;32m     10\u001b[0m html \u001b[38;5;241m=\u001b[39m driver\u001b[38;5;241m.\u001b[39mexecute_script(\u001b[38;5;124m\"\u001b[39m\u001b[38;5;124mreturn document.getElementsByTagName(\u001b[39m\u001b[38;5;124m'\u001b[39m\u001b[38;5;124mhtml\u001b[39m\u001b[38;5;124m'\u001b[39m\u001b[38;5;124m)[0].innerHTML\u001b[39m\u001b[38;5;124m\"\u001b[39m)\n",
      "\u001b[1;31mAttributeError\u001b[0m: 'WebDriver' object has no attribute 'set_proxy'"
     ]
    }
   ],
   "source": [
    "chrome_options = Options()\n",
    "# chrome_options.add_argument('--headless')\n",
    "chrome_options.add_argument('Mozilla/5.0 (Windows NT 10.0; Win64; x64) AppleWebKit/537.36 (KHTML, like Gecko) Chrome/116.0.0.0 Safari/537.36')\n",
    "path = 'chromedriver.exe'\n",
    "chrome_options.add_argument('--executable-path=chromedriver.exe')\n",
    "driver = webdriver.Chrome(options=chrome_options)\n",
    "driver.set_proxy(PROXY_SERVER)\n",
    "driver.get(BASE_SEARCH_URL_PARAMETER)\n",
    "\n",
    "html = driver.execute_script(\"return document.getElementsByTagName('html')[0].innerHTML\")\n",
    "soup = BeautifulSoup(html, 'html.parser')\n",
    "\n",
    "print(soup)"
   ]
  },
  {
   "cell_type": "code",
   "execution_count": null,
   "id": "d5417b0a",
   "metadata": {},
   "outputs": [],
   "source": [
    "LIST_OF_ITEMS = soup.find('div', class_='ie3A+n bM+7UW Cve6sh')\n",
    "print(LIST_OF_ITEMS)\n",
    "\n",
    "driver.quit()"
   ]
  },
  {
   "cell_type": "code",
   "execution_count": null,
   "id": "7d6cccb2",
   "metadata": {},
   "outputs": [],
   "source": []
  },
  {
   "cell_type": "code",
   "execution_count": null,
   "id": "b4414df7",
   "metadata": {},
   "outputs": [],
   "source": []
  },
  {
   "cell_type": "code",
   "execution_count": null,
   "id": "08593072",
   "metadata": {},
   "outputs": [],
   "source": []
  }
 ],
 "metadata": {
  "kernelspec": {
   "display_name": "Python 3 (ipykernel)",
   "language": "python",
   "name": "python3"
  },
  "language_info": {
   "codemirror_mode": {
    "name": "ipython",
    "version": 3
   },
   "file_extension": ".py",
   "mimetype": "text/x-python",
   "name": "python",
   "nbconvert_exporter": "python",
   "pygments_lexer": "ipython3",
   "version": "3.11.4"
  }
 },
 "nbformat": 4,
 "nbformat_minor": 5
}
